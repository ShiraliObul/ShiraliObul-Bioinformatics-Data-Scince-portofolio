{
 "cells": [
  {
   "cell_type": "markdown",
   "id": "11496f9b-3be0-4497-84fe-fa314f4e6a59",
   "metadata": {},
   "source": [
    "## [Final Project - Create, Modify, and Submit a Jupyter Notebook](#shirali_project)\n",
    "\n"
   ]
  },
  {
   "cell_type": "markdown",
   "id": "06cbfc00-2d35-42bb-aed1-469749d6abc6",
   "metadata": {},
   "source": [
    "<a id='#shirali_project'></a>\n"
   ]
  },
  {
   "cell_type": "markdown",
   "id": "6a8ec957-46f5-4d5f-acef-a665652471bb",
   "metadata": {},
   "source": [
    "#### A car with a full tank of gas drives 80 miles per hour for 3 hours before running out of gas. How many miles can the car go per tank?\n",
    "\n"
   ]
  },
  {
   "cell_type": "code",
   "execution_count": 5,
   "id": "1ea3f8ba-cffe-4bfa-a45a-7edb862dd49a",
   "metadata": {},
   "outputs": [
    {
     "name": "stdout",
     "output_type": "stream",
     "text": [
      "The car go per tank is 240 miles\n"
     ]
    }
   ],
   "source": [
    "# I would like to give by python code as following\n",
    "print(\"The car go per tank is\", 80*3,\"miles\")"
   ]
  },
  {
   "cell_type": "markdown",
   "id": "9c97e654-9b44-408c-9d4a-f7a5a973df3a",
   "metadata": {},
   "source": [
    "#### A runner travels a half marathon (13.1 miles) in 3 hours. How fast was this runner going in miles per hour?\n"
   ]
  },
  {
   "cell_type": "code",
   "execution_count": 6,
   "id": "1ee9f35e-0073-493c-849f-571f37456301",
   "metadata": {},
   "outputs": [
    {
     "name": "stdout",
     "output_type": "stream",
     "text": [
      "The runner per our speed is 4.366666666666666 miles/h\n"
     ]
    }
   ],
   "source": [
    "print(\"The runner per our speed is\", 13.1/3, \"miles/h\")"
   ]
  },
  {
   "cell_type": "markdown",
   "id": "0072e6c9-b91d-4781-a964-aa9dc9c1c0cc",
   "metadata": {},
   "source": [
    "#### The spread of a virus is exponential. If 5 people are infected and each person infects 2 other people, how many people have been infected after 5 rounds of infection?"
   ]
  },
  {
   "cell_type": "markdown",
   "id": "a055c8d2-59ee-4b4f-ab86-e3cef9076383",
   "metadata": {},
   "source": [
    "> The formula to calculate the infected people after 5 rounds is Total_infected = initial_infected * (infection_rate ** number_of_rounds)\n"
   ]
  },
  {
   "cell_type": "code",
   "execution_count": 20,
   "id": "bfc6ff1b-8a45-4850-96b1-3f2ba0a2d853",
   "metadata": {},
   "outputs": [
    {
     "name": "stdout",
     "output_type": "stream",
     "text": [
      "Total number of infected people after 5 rounds: 160\n"
     ]
    }
   ],
   "source": [
    "initial_infected = 5\n",
    "infection_rate = 2\n",
    "number_of_rounds = 5\n",
    "\n",
    "total_infected = initial_infected * (infection_rate ** number_of_rounds)\n",
    "\n",
    "print(\"Total number of infected people after 5 rounds:\", total_infected)\n"
   ]
  },
  {
   "cell_type": "markdown",
   "id": "22380257-0e28-4994-9b36-2bc52cd8ca03",
   "metadata": {},
   "source": [
    "- [x] Answer for Q1 is 240miles;\n",
    "- [x] Answer for Q2 is 4.36 miles/h;\n",
    "- [x] Answer for Q3 is 160 total infected people after 5 rounds\n"
   ]
  },
  {
   "cell_type": "markdown",
   "id": "09fae6bd-3eac-496e-8664-7895c97b34cc",
   "metadata": {},
   "source": [
    "| Questions | Answers |\n",
    "| ---------------|----------------|\n",
    "| Q1  | 240 miles |\n",
    "| Q2  | 4.36 miles/h |\n",
    "| Q3  | 160 people |\n"
   ]
  },
  {
   "cell_type": "markdown",
   "id": "61c59053-20b9-4b6f-820c-68fedfc95bd9",
   "metadata": {},
   "source": [
    "[Jump to my anchor](#shirali_project)\n",
    "\n",
    "---\n",
    "\n",
    "<a id='shirali_project'></a>\n",
    "## My Anchor\n"
   ]
  },
  {
   "cell_type": "markdown",
   "id": "1fa0acba-b044-408f-889e-44f2278cd5a2",
   "metadata": {},
   "source": [
    "I learnt a lot doing this project, thanks a lot Laura Harris"
   ]
  }
 ],
 "metadata": {
  "kernelspec": {
   "display_name": "PythonData",
   "language": "python",
   "name": "pythondata"
  },
  "language_info": {
   "codemirror_mode": {
    "name": "ipython",
    "version": 3
   },
   "file_extension": ".py",
   "mimetype": "text/x-python",
   "name": "python",
   "nbconvert_exporter": "python",
   "pygments_lexer": "ipython3",
   "version": "3.9.12"
  }
 },
 "nbformat": 4,
 "nbformat_minor": 5
}
